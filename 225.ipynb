{
  "nbformat": 4,
  "nbformat_minor": 0,
  "metadata": {
    "kernelspec": {
      "display_name": "Python 3",
      "language": "python",
      "name": "python3"
    },
    "language_info": {
      "codemirror_mode": {
        "name": "ipython",
        "version": 3
      },
      "file_extension": ".py",
      "mimetype": "text/x-python",
      "name": "python",
      "nbconvert_exporter": "python",
      "pygments_lexer": "ipython3",
      "version": "3.7.6"
    },
    "colab": {
      "name": "225.ipynb",
      "provenance": [],
      "include_colab_link": true
    }
  },
  "cells": [
    {
      "cell_type": "markdown",
      "metadata": {
        "id": "view-in-github",
        "colab_type": "text"
      },
      "source": [
        "<a href=\"https://colab.research.google.com/github/SyroQT/TC-Calculator/blob/main/225.ipynb\" target=\"_parent\"><img src=\"https://colab.research.google.com/assets/colab-badge.svg\" alt=\"Open In Colab\"/></a>"
      ]
    },
    {
      "cell_type": "markdown",
      "metadata": {
        "id": "4qx_WNYqc6o_"
      },
      "source": [
        "# Module 2: Data Engineering\n",
        "### Sprint 2: SQL and Data Scraping\n",
        "### Storing Scraped Information"
      ]
    },
    {
      "cell_type": "markdown",
      "metadata": {
        "id": "5mjAof_Pc6pF"
      },
      "source": [
        "## Background \n",
        "You did a really outstanding job this week. Now you know SQL databases, how to make basic data operations. You are familiar with pros and cons of SQL and should know when to choose NoSQL database. Data scrapping is a technique that you can use to create your own dataset. You are also familiar with basic concepts of Spark. You should be proud of yourself! For the last lesson of this week, you should put all your learnings into one place to collect, process and store data. Combining these two might require a bit of a planning at first but this is what you will need to do now."
      ]
    },
    {
      "cell_type": "markdown",
      "metadata": {
        "id": "UDZxIaI_c6pF"
      },
      "source": [
        "---"
      ]
    },
    {
      "cell_type": "markdown",
      "metadata": {
        "id": "4S6H0z8lc6pG"
      },
      "source": [
        "## Creating the PostgreSQL database\n",
        "First, you will need to create a database that you will need to use to store the data you will collect. Follow the steps provided in the second lesson of this sprint. Do not forget to remove all secrets and passwords when committing code to the repository. "
      ]
    },
    {
      "cell_type": "markdown",
      "metadata": {
        "id": "XjjCKQTRc6pG"
      },
      "source": [
        "## Scraping the data\n",
        "This lesson, you will need to scrape and store data collected from an online store. You can choose any website that you like (Vinted, Amazon, eBay, etc.). You will need to select three keywords (for example `dress`, `bike`, `bracelet`) and scrape listings from the selected website. You will need to collect at least 3000 samples for each category and store this information of the listing: `category`, `title`, `price`, `url to item`, `url of image`. "
      ]
    },
    {
      "cell_type": "markdown",
      "metadata": {
        "id": "HNf9kjj9c6pG"
      },
      "source": [
        "## Structure of the database\n",
        "As you will be storing data into the relational database, you will need to create tables. There should be two tables with many to one type of relationship."
      ]
    },
    {
      "cell_type": "markdown",
      "metadata": {
        "id": "3mcd8qg2c6pG"
      },
      "source": [
        "---"
      ]
    },
    {
      "cell_type": "markdown",
      "metadata": {
        "id": "XCoeFIJGc6pH"
      },
      "source": [
        "## Concepts to explore\n",
        "* Creating relational type database\n",
        "* Creating PostgreSQL database in Heroku\n",
        "* Writing SQL queries\n",
        "* Scraping webpages using Beautiful Soup\n",
        "* Storing and acquiring data using SQL"
      ]
    },
    {
      "cell_type": "markdown",
      "metadata": {
        "id": "ZmpKbEiDc6pH"
      },
      "source": [
        "## Requirements\n",
        "You should create two files: one that contains functions related to data scraping and another that is created to enable communication to PostgreSQL database created with Heroku. The actual requirements are these:\n",
        "- Database should be created using Heroku.\n",
        "- Required tables should be created. Python code should be provided inside `.py` file.\n",
        "- eBay scraping functions should be created. The main scraping function should take two arguments: `number of examples to scrape` and `keyword to search`. The main scraping function should return a Pandas `DataFrame` with the records.\n",
        "- Scrape the eBay website. Get minimum 3000 samples of each category (keyword)\n",
        "- Data should be inserted into tables of database hosted by Heroku. Provide screenshots proofing that data sits inside the database.\n",
        "- Join two tables into one using SQL query and export it to `csv` file. Provide function that makes this action.\n"
      ]
    },
    {
      "cell_type": "markdown",
      "metadata": {
        "id": "clEfMZA3c6pH"
      },
      "source": [
        "## Evaluation criteria\n",
        "1. The requirements are met (database and tables in it are created, data is scraped and stored)\n",
        "2. Data scraping functions are written.\n",
        "3. Code meets expected standards (type hints, PEP8 standards)\n",
        "4. Documentation is provided (comments are written where needed, README.md file is created)"
      ]
    },
    {
      "cell_type": "code",
      "metadata": {
        "id": "ZeANEgJPc6pI"
      },
      "source": [
        ""
      ],
      "execution_count": null,
      "outputs": []
    }
  ]
}